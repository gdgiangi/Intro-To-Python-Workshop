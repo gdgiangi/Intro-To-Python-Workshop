{
 "cells": [
  {
   "cell_type": "markdown",
   "id": "57ae487a",
   "metadata": {},
   "source": [
    "# Exercise #1\n",
    "Create a program that, given an integer, will print out its absolute value.\n"
   ]
  },
  {
   "cell_type": "code",
   "execution_count": 11,
   "id": "9d94f2db",
   "metadata": {},
   "outputs": [
    {
     "name": "stdout",
     "output_type": "stream",
     "text": [
      "Absolute value of -10 is 10\n"
     ]
    }
   ],
   "source": [
    "def print_absolute_value(n):\n",
    "    # Your code here\n",
    "    \n",
    "    \n",
    "print_absolute_value(-10)"
   ]
  },
  {
   "cell_type": "markdown",
   "id": "c54d3594",
   "metadata": {},
   "source": [
    "# Example #2\n",
    "Create a function that will accept 5 numbers and print their average."
   ]
  },
  {
   "cell_type": "code",
   "execution_count": 12,
   "id": "5d235c36",
   "metadata": {},
   "outputs": [
    {
     "name": "stdout",
     "output_type": "stream",
     "text": [
      "Enter a number: 5\n",
      "Enter a number: 10\n",
      "Enter a number: 15\n",
      "Enter a number: 50\n",
      "Enter a number: 1\n",
      "The average of the numbers is 16.2\n"
     ]
    }
   ],
   "source": [
    "def print_average():\n",
    "    # Your code here\n",
    "    \n",
    "print_average()"
   ]
  },
  {
   "cell_type": "markdown",
   "id": "e1446dac",
   "metadata": {},
   "source": [
    "# Exercise #3 \n",
    "Create a simple calculator that will accept 2 integers with a small menu for some basic operations ('+','-','*','/') or press 'q' to quit"
   ]
  },
  {
   "cell_type": "code",
   "execution_count": 18,
   "id": "7531b473",
   "metadata": {},
   "outputs": [
    {
     "name": "stdout",
     "output_type": "stream",
     "text": [
      "Select operation.\n",
      "+\n",
      "-\n",
      "*\n",
      "/\n",
      "q to Quit\n",
      "Operator: +\n",
      "Enter first number: 4\n",
      "Enter second number: 7\n",
      "4 + 7 = 11\n",
      "\n",
      "Select operation.\n",
      "+\n",
      "-\n",
      "*\n",
      "/\n",
      "q to Quit\n",
      "Operator: q\n"
     ]
    }
   ],
   "source": [
    "def calculator():\n",
    "   # Your code here\n",
    "\n",
    "calculator()"
   ]
  },
  {
   "cell_type": "markdown",
   "id": "25b1dcec",
   "metadata": {},
   "source": [
    "# Exercise #4\n",
    "Write a function that will calculate the factorial of an integer passed to it."
   ]
  },
  {
   "cell_type": "code",
   "execution_count": 20,
   "id": "737e18ff",
   "metadata": {},
   "outputs": [
    {
     "data": {
      "text/plain": [
       "120"
      ]
     },
     "execution_count": 20,
     "metadata": {},
     "output_type": "execute_result"
    }
   ],
   "source": [
    "# Beginner\n",
    "def factorial(n):\n",
    "    # Your code here\n",
    "\n",
    "# Advanced (Recursive)\n",
    "def factorial_recursive(n):\n",
    "    # Your code here\n",
    "    \n",
    "factorial(5)"
   ]
  },
  {
   "cell_type": "markdown",
   "id": "86e8f5ca",
   "metadata": {},
   "source": [
    "# Exercise #5\n",
    "Write a function that will accept a parameter 'n' and will print out all the prime numbers from 2 to n."
   ]
  },
  {
   "cell_type": "code",
   "execution_count": 21,
   "id": "663484c5",
   "metadata": {},
   "outputs": [
    {
     "name": "stdout",
     "output_type": "stream",
     "text": [
      "2\n",
      "3\n",
      "5\n",
      "7\n",
      "11\n",
      "13\n",
      "17\n",
      "19\n"
     ]
    }
   ],
   "source": [
    "# Beginner\n",
    "def print_prime_numbers(n):\n",
    "    # Your code here\n",
    "\n",
    "print_prime_numbers(20)"
   ]
  },
  {
   "cell_type": "markdown",
   "id": "2810c5fb",
   "metadata": {},
   "source": [
    "# Exercise #6 \n",
    "Write a program that will guess a number you're thinking about (between 1-100). Whenever it makes a guess, you tell it whether the actual number is higher or lower. (Bonus: What is the minimum number of guesses?)"
   ]
  },
  {
   "cell_type": "code",
   "execution_count": 23,
   "id": "eb99671f",
   "metadata": {},
   "outputs": [
    {
     "name": "stdout",
     "output_type": "stream",
     "text": [
      "Is the number 50? (h/l/c): h\n",
      "Is the number 75? (h/l/c): h\n",
      "Is the number 88? (h/l/c): h\n",
      "Is the number 94? (h/l/c): h\n",
      "Is the number 97? (h/l/c): h\n",
      "Is the number 99? (h/l/c): c\n",
      "The number is 99\n"
     ]
    }
   ],
   "source": [
    "def guess_number():\n",
    "    # Your code here\n",
    "\n",
    "guess_number()"
   ]
  }
 ],
 "metadata": {
  "kernelspec": {
   "display_name": "Python 3.9.7 64-bit ('base': conda)",
   "language": "python",
   "name": "python397jvsc74a57bd07e5fc53a2681610bfff70b4e8c501c120b0e428792a1899f858704659b6a0061"
  },
  "language_info": {
   "codemirror_mode": {
    "name": "ipython",
    "version": 3
   },
   "file_extension": ".py",
   "mimetype": "text/x-python",
   "name": "python",
   "nbconvert_exporter": "python",
   "pygments_lexer": "ipython3",
   "version": "3.8.12"
  }
 },
 "nbformat": 4,
 "nbformat_minor": 5
}
