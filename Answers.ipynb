{
 "cells": [
  {
   "cell_type": "markdown",
   "id": "57ae487a",
   "metadata": {},
   "source": [
    "# Exercise #1\n",
    "Create a program that, given an integer, will print out its absolute value.\n"
   ]
  },
  {
   "cell_type": "code",
   "execution_count": 11,
   "id": "9d94f2db",
   "metadata": {},
   "outputs": [
    {
     "name": "stdout",
     "output_type": "stream",
     "text": [
      "Absolute value of -10 is 10\n"
     ]
    }
   ],
   "source": [
    "# Beginner\n",
    "def print_absolute_value(n):\n",
    "    if n < 0:\n",
    "        n = -n\n",
    "    print(n)\n",
    "\n",
    "# Advanced\n",
    "def print_absolute_value_adv(n):\n",
    "    print('Absolute value of ' + str(n) + ' is ' + str(abs(n)))\n",
    "    \n",
    "print_absolute_value_adv(-10)"
   ]
  },
  {
   "cell_type": "markdown",
   "id": "c54d3594",
   "metadata": {},
   "source": [
    "# Example #2\n",
    "Create a function that will accept 5 numbers and print their average."
   ]
  },
  {
   "cell_type": "code",
   "execution_count": 12,
   "id": "5d235c36",
   "metadata": {},
   "outputs": [
    {
     "name": "stdout",
     "output_type": "stream",
     "text": [
      "Enter a number: 5\n",
      "Enter a number: 10\n",
      "Enter a number: 15\n",
      "Enter a number: 50\n",
      "Enter a number: 1\n",
      "The average of the numbers is 16.2\n"
     ]
    }
   ],
   "source": [
    "# Beginner\n",
    "def print_average():\n",
    "    numbers = []\n",
    "    total = 0\n",
    "    for i in range(5):\n",
    "        number = float(input(\"Enter a number: \"))\n",
    "        numbers.append(number)\n",
    "        total += number\n",
    "    average = total / 5\n",
    "    print(\"The average of the numbers is\", average)\n",
    "\n",
    "# Advanced\n",
    "def print_average_adv():\n",
    "    numbers = []\n",
    "    for i in range(5):\n",
    "        number = float(input(\"Enter a number: \"))\n",
    "        numbers.append(number)\n",
    "    average = sum(numbers) / len(numbers)\n",
    "    print(\"The average of the numbers is\", average)\n",
    "    \n",
    "print_average_adv()"
   ]
  },
  {
   "cell_type": "markdown",
   "id": "e1446dac",
   "metadata": {},
   "source": [
    "# Exercise #3 \n",
    "Create a simple calculator that will accept 2 integers with a small menu for some basic operations ('+','-','*','/') or press 'q' to quit"
   ]
  },
  {
   "cell_type": "code",
   "execution_count": 24,
   "id": "7531b473",
   "metadata": {},
   "outputs": [
    {
     "name": "stdout",
     "output_type": "stream",
     "text": [
      "Select operation.\n",
      "+\n",
      "-\n",
      "*\n",
      "/\n",
      "q to Quit\n",
      "Operator: *\n",
      "Enter first number: 5\n",
      "Enter second number: 100\n",
      "5 * 100 = 500\n",
      "\n",
      "Select operation.\n",
      "+\n",
      "-\n",
      "*\n",
      "/\n",
      "q to Quit\n",
      "Operator: q\n"
     ]
    }
   ],
   "source": [
    "def calculator():\n",
    "    while True:\n",
    "        print(\"Select operation.\")\n",
    "        print(\"+\")\n",
    "        print(\"-\")\n",
    "        print(\"*\")\n",
    "        print(\"/\")\n",
    "        print(\"q to Quit\")\n",
    "        choice = input(\"Operator: \")\n",
    "\n",
    "        if choice == 'q':\n",
    "            break\n",
    "        elif choice in ('+', '-', '*', '/'):\n",
    "            num1 = int(input(\"Enter first number: \"))\n",
    "            num2 = int(input(\"Enter second number: \"))\n",
    "            if choice == '+':\n",
    "                print(num1, \"+\", num2, \"=\", num1 + num2)\n",
    "            elif choice == '-':\n",
    "                print(num1, \"-\", num2, \"=\", num1 - num2)\n",
    "            elif choice == '*':\n",
    "                print(num1, \"*\", num2, \"=\", num1 * num2)\n",
    "            elif choice == '/':\n",
    "                print(num1, \"/\", num2, \"=\", num1 / num2)\n",
    "        else:\n",
    "            print(\"Invalid Input\")\n",
    "        print()\n",
    "\n",
    "calculator()"
   ]
  },
  {
   "cell_type": "markdown",
   "id": "3fd42716",
   "metadata": {},
   "source": [
    "# Exercise #4\n",
    "Write a function that will calculate the factorial of an integer passed to it."
   ]
  },
  {
   "cell_type": "code",
   "execution_count": 25,
   "id": "f92a20dd",
   "metadata": {},
   "outputs": [
    {
     "data": {
      "text/plain": [
       "120"
      ]
     },
     "execution_count": 25,
     "metadata": {},
     "output_type": "execute_result"
    }
   ],
   "source": [
    "# Beginner\n",
    "def factorial(n):\n",
    "    fact = 1\n",
    "    for i in range(1, n+1):\n",
    "        fact = fact * i\n",
    "    return fact\n",
    "\n",
    "# Advanced (Recursive)\n",
    "def factorial_adv(n):\n",
    "    if n == 0:\n",
    "        return 1\n",
    "    else:\n",
    "        return n * factorial_adv(n-1)\n",
    "    \n",
    "factorial_adv(5)"
   ]
  },
  {
   "cell_type": "markdown",
   "id": "2ffab08a",
   "metadata": {},
   "source": [
    "# Exercise #5\n",
    "Write a function that will accept a parameter 'n' and will print out all the prime numbers from 2 to n."
   ]
  },
  {
   "cell_type": "code",
   "execution_count": 26,
   "id": "07bc78fb",
   "metadata": {},
   "outputs": [
    {
     "name": "stdout",
     "output_type": "stream",
     "text": [
      "2\n",
      "3\n",
      "5\n",
      "7\n",
      "11\n",
      "13\n",
      "17\n",
      "19\n",
      "23\n",
      "29\n"
     ]
    }
   ],
   "source": [
    "# Beginner\n",
    "def print_prime_numbers(n):\n",
    "    for num in range(2, n+1):\n",
    "        prime = True\n",
    "        for i in range(2, num):\n",
    "            if num % i == 0:\n",
    "                prime = False\n",
    "                break\n",
    "        if prime:\n",
    "            print(num)\n",
    "\n",
    "# Advanced\n",
    "def print_prime_numbers_adv(n):\n",
    "    for num in range(2, n+1):\n",
    "        if all(num%i!=0 for i in range(2,num)):\n",
    "           print (num)\n",
    "\n",
    "print_prime_numbers(30)"
   ]
  },
  {
   "cell_type": "markdown",
   "id": "10a9af52",
   "metadata": {},
   "source": [
    "# Exercise #6 \n",
    "Write a program that will guess a number you're thinking about (between 1-100). Whenever it makes a guess, you tell it whether the actual number is higher or lower. (Bonus: What is the minimum number of guesses?)"
   ]
  },
  {
   "cell_type": "code",
   "execution_count": 23,
   "id": "2150f340",
   "metadata": {},
   "outputs": [
    {
     "name": "stdout",
     "output_type": "stream",
     "text": [
      "Is the number 50? (h/l/c): h\n",
      "Is the number 75? (h/l/c): h\n",
      "Is the number 88? (h/l/c): h\n",
      "Is the number 94? (h/l/c): h\n",
      "Is the number 97? (h/l/c): h\n",
      "Is the number 99? (h/l/c): c\n",
      "The number is 99\n"
     ]
    }
   ],
   "source": [
    "def guess_number():\n",
    "    low = 1\n",
    "    high = 100\n",
    "    while True:\n",
    "        guess = (low + high) // 2\n",
    "        result = input(f\"Is the number {guess}? (h/l/c): \")\n",
    "        if result == \"h\":\n",
    "            low = guess + 1\n",
    "        elif result == \"l\":\n",
    "            high = guess - 1\n",
    "        elif result == \"c\":\n",
    "            print(f\"The number is {guess}\")\n",
    "            break\n",
    "        else:\n",
    "            print(\"Invalid input\")\n",
    "\n",
    "guess_number()"
   ]
  }
 ],
 "metadata": {
  "kernelspec": {
   "display_name": "Python 3.9.7 64-bit ('base': conda)",
   "language": "python",
   "name": "python397jvsc74a57bd07e5fc53a2681610bfff70b4e8c501c120b0e428792a1899f858704659b6a0061"
  },
  "language_info": {
   "codemirror_mode": {
    "name": "ipython",
    "version": 3
   },
   "file_extension": ".py",
   "mimetype": "text/x-python",
   "name": "python",
   "nbconvert_exporter": "python",
   "pygments_lexer": "ipython3",
   "version": "3.8.12"
  }
 },
 "nbformat": 4,
 "nbformat_minor": 5
}
